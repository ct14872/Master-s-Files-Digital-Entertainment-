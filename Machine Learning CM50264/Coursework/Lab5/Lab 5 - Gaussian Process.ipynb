{
 "cells": [
  {
   "cell_type": "code",
   "execution_count": 3,
   "metadata": {
    "collapsed": true
   },
   "outputs": [],
   "source": [
    "%matplotlib inline\n",
    "\n",
    "import zipfile\n",
    "import io\n",
    "import csv\n",
    "import time\n",
    "from random import shuffle\n",
    "import numpy as np\n",
    "import matplotlib.pyplot as plt"
   ]
  },
  {
   "cell_type": "code",
   "execution_count": 122,
   "metadata": {},
   "outputs": [
    {
     "name": "stdout",
     "output_type": "stream",
     "text": [
      "Data: 44483 exemplars, 22 features\n",
      "Train in set size: 10000 exemplars, 21 features\n",
      "Train out set size: 10000 exemplars, 1 features\n",
      "Test in set size: 5000 exemplars, 21 features\n",
      "Test out set size: 5000 exemplars, 1 features\n"
     ]
    }
   ],
   "source": [
    "# Loading the data set\n",
    "\n",
    "sarcos_inv = 'sarcos_inv.zip'\n",
    "sarcos_inv_csv = 'sarcos_inv.csv'\n",
    "\n",
    "with zipfile.ZipFile(sarcos_inv) as zf:\n",
    "    with zf.open(sarcos_inv_csv) as f:\n",
    "        sf = io.TextIOWrapper(f)\n",
    "        reader = csv.reader(sf)\n",
    "        next(reader)\n",
    "        dm = []\n",
    "        for row in reader:\n",
    "            dm.append([float(v) for v in row])\n",
    "        dm = np.array(dm, dtype=np.float32)\n",
    "\n",
    "print('Data: {} exemplars, {} features'.format(dm.shape[0], dm.shape[1]))\n",
    "\n",
    "split = 10000\n",
    "m,n = dm.shape\n",
    "train_in = dm[:split,:n-1]\n",
    "train_out = dm[:split,-1]\n",
    "test_in = dm[10001:15001,:n-1]\n",
    "test_out = dm[10001:15001,-1]\n",
    "train_out.shape = (split,1)\n",
    "test_out.shape = (test_in.shape[0],1)\n",
    "\n",
    "print('Train in set size: {} exemplars, {} features'.format( train_in.shape[0],train_in.shape[1]))\n",
    "print('Train out set size: {} exemplars, {} features'.format( train_out.shape[0],train_out.shape[1]))\n",
    "print('Test in set size: {} exemplars, {} features'.format( test_in.shape[0],test_in.shape[1]))\n",
    "print('Test out set size: {} exemplars, {} features'.format( test_out.shape[0],test_out.shape[1]))\n"
   ]
  },
  {
   "cell_type": "code",
   "execution_count": 10,
   "metadata": {
    "collapsed": true
   },
   "outputs": [],
   "source": [
    "# sum of squared differences\n",
    "def calc_error(pred, actual):\n",
    "    ssd = 0\n",
    "    for i in range(pred.shape[0]):\n",
    "        subt = pred[i]-actual[i]\n",
    "        square = np.power(subt,2)\n",
    "        ssd += square\n",
    "    return ssd/pred.shape[0]\n"
   ]
  },
  {
   "cell_type": "code",
   "execution_count": 7,
   "metadata": {
    "collapsed": true
   },
   "outputs": [],
   "source": [
    "# This is the kernel function as described in the lecture slides\n",
    "def kernel(a,b, vark):\n",
    "    c = np.power(a-b,2)\n",
    "    k = np.exp(-(c.sum()*(1.0/vark)))\n",
    "    return k\n",
    "\n",
    "# This function produces a row vector consisting of kernel function values given a test sample\n",
    "def k_vector(x_in, tr_in, vark):\n",
    "    k_vec = np.zeros(shape=(1,tr_in.shape[0]))\n",
    "    for i in range(tr_in.shape[0]):\n",
    "        k_vec[:,i] = kernel(x_in, tr_in[i,:], vark)\n",
    "    return k_vec\n",
    "\n",
    "# This function will produce an NxN matrix (covariance matrix) consisting of rows from the function k_vector\n",
    "# where the values in the matrix will be the output \n",
    "def K_matrix(tr_in, vark):\n",
    "    m = tr_in.shape[0]\n",
    "    K_mat = np.zeros(shape=(m,m))\n",
    "    for i in range(m):\n",
    "        K_mat[i,:] = k_vector(tr_in[i,:],tr_in, vark)\n",
    "    return K_mat\n",
    "\n",
    "# This is where the predicction is being made.\n",
    "# Please refer to my report to find how it works\n",
    "def pred(te_in, tr_in,tr_out, K_mat,vark, var):\n",
    "    I = np.identity(K_mat.shape[0])\n",
    "    pre = np.linalg.inv(K_mat + var*I).dot(tr_out)\n",
    "    tes_res = np.zeros(shape = (te_in.shape[0],1))\n",
    "    for i in range(te_in.shape[0]):\n",
    "        k_vec = k_vector(te_in[i,:], tr_in,vark)\n",
    "        mean = np.dot(k_vec,pre)\n",
    "        tes_res[i] = mean\n",
    "    return tes_res"
   ]
  },
  {
   "cell_type": "code",
   "execution_count": 123,
   "metadata": {
    "scrolled": false
   },
   "outputs": [
    {
     "name": "stdout",
     "output_type": "stream",
     "text": [
      "(31, 6)\n",
      "300 10 55.3671853389\n",
      "300 1 29.43780282\n",
      "300 0.1 14.0888686323\n",
      "300 0.01 11.2085493383\n",
      "300 0.001 14.1848257444\n",
      "300 0.0001 23.884844456\n",
      "310 10 55.591651462\n",
      "310 1 29.5553343458\n",
      "310 0.1 14.0576552579\n",
      "310 0.01 11.1265111519\n",
      "310 0.001 14.1134004585\n",
      "310 0.0001 23.6267515185\n",
      "320 10 55.8165119246\n",
      "320 1 29.6736835193\n",
      "320 0.1 14.0306772859\n",
      "320 0.01 11.0478305225\n",
      "320 0.001 14.0457731935\n",
      "320 0.0001 23.3757931667\n",
      "330 10 56.0416405884\n",
      "330 1 29.7926061577\n",
      "330 0.1 14.007641818\n",
      "330 0.01 10.9728276024\n",
      "330 0.001 13.9799689194\n",
      "330 0.0001 23.1344618309\n",
      "340 10 56.2669262216\n",
      "340 1 29.9119104427\n",
      "340 0.1 13.9882723688\n",
      "340 0.01 10.9017929894\n",
      "340 0.001 13.9140924914\n",
      "340 0.0001 22.9043537381\n",
      "350 10 56.4922694809\n",
      "350 1 30.0314498793\n",
      "350 0.1 13.9723074282\n",
      "350 0.01 10.8349557469\n",
      "350 0.001 13.8464759637\n",
      "350 0.0001 22.6864415718\n",
      "360 10 56.71758095\n",
      "360 1 30.1511165965\n",
      "360 0.1 13.9594995197\n",
      "360 0.01 10.7724661857\n",
      "360 0.001 13.7757898743\n",
      "360 0.0001 22.481268662\n",
      "370 10 56.9427798477\n",
      "370 1 30.2708350869\n",
      "370 0.1 13.9496145698\n",
      "370 0.01 10.7143904266\n",
      "370 0.001 13.7011081434\n",
      "370 0.0001 22.2890519316\n",
      "380 10 57.1677931423\n",
      "380 1 30.3905564641\n",
      "380 0.1 13.9424315031\n",
      "380 0.01 10.6607137066\n",
      "380 0.001 13.6219257259\n",
      "380 0.0001 22.1097125259\n",
      "390 10 57.3925548964\n",
      "390 1 30.5102532903\n",
      "390 0.1 13.9377420118\n",
      "390 0.01 10.6113496487\n",
      "390 0.001 13.5381355293\n",
      "390 0.0001 21.9428679801\n",
      "400 10 57.6170057301\n",
      "400 1 30.6299149972\n",
      "400 0.1 13.9353504501\n",
      "400 0.01 10.5661531031\n",
      "400 0.001 13.4499755337\n",
      "400 0.0001 21.7878193289\n",
      "410 10 57.8410923367\n",
      "410 1 30.749543895\n",
      "410 0.1 13.9350737957\n",
      "410 0.01 10.5249345928\n",
      "410 0.001 13.3579584584\n",
      "410 0.0001 21.6435561897\n",
      "420 10 58.0647670109\n",
      "420 1 30.8691517475\n",
      "420 0.1 13.9367416169\n",
      "420 0.01 10.4874748162\n",
      "420 0.001 13.2627952918\n",
      "420 0.0001 21.5087900946\n",
      "430 10 58.2879871745\n",
      "430 1 30.988756872\n",
      "430 0.1 13.9401959869\n",
      "430 0.01 10.453538072\n",
      "430 0.001 13.1653215077\n",
      "430 0.0001 21.3820153899\n",
      "440 10 58.5107148947\n",
      "440 1 31.1083817177\n",
      "440 0.1 13.9452912991\n",
      "440 0.01 10.4228838389\n",
      "440 0.001 13.0664317642\n",
      "440 0.0001 21.2615900184\n",
      "450 10 58.7329163984\n",
      "450 1 31.2280508704\n",
      "450 0.1 13.9518939537\n",
      "450 0.01 10.3952760768\n",
      "450 0.001 12.9670260613\n",
      "450 0.0001 21.145825492\n",
      "460 10 58.954561591\n",
      "460 1 31.347789434\n",
      "460 0.1 13.9598819022\n",
      "460 0.01 10.3704900948\n",
      "460 0.001 12.8679681736\n",
      "460 0.0001 21.033075335\n",
      "470 10 59.1756235886\n",
      "470 1 31.4676217399\n",
      "470 0.1 13.9691440575\n",
      "470 0.01 10.3483170524\n",
      "470 0.001 12.7700556773\n",
      "470 0.0001 20.9218132026\n",
      "480 10 59.3960782725\n",
      "480 1 31.5875703399\n",
      "480 0.1 13.9795795865\n",
      "480 0.01 10.3285663288\n",
      "480 0.001 12.6740001331\n",
      "480 0.0001 20.8106945561\n",
      "490 10 59.6159038749\n",
      "490 1 31.7076552444\n",
      "490 0.1 13.9910971154\n",
      "490 0.01 10.3110660985\n",
      "490 0.001 12.5804156566\n",
      "490 0.0001 20.6985987628\n",
      "500 10 59.8350806017\n",
      "500 1 31.8278933694\n",
      "500 0.1 14.0036138809\n",
      "500 0.01 10.2956625121\n",
      "500 0.001 12.4898141241\n",
      "500 0.0001 20.5846511305\n",
      "510 10 60.0535902974\n",
      "510 1 31.9482981631\n",
      "510 0.1 14.0170548624\n",
      "510 0.01 10.2822178889\n",
      "510 0.001 12.4026054583\n",
      "510 0.0001 20.4682264604\n",
      "520 10 60.2714161547\n",
      "520 1 32.0688793827\n",
      "520 0.1 14.0313519276\n",
      "520 0.01 10.2706083057\n",
      "520 0.001 12.3191016383\n",
      "520 0.0001 20.3489372221\n",
      "530 10 60.4885424694\n",
      "530 1 32.1896429999\n",
      "530 0.1 14.046443021\n",
      "530 0.01 10.2607209158\n",
      "530 0.001 12.2395233705\n",
      "530 0.0001 20.226610208\n",
      "540 10 60.7049544414\n",
      "540 1 32.3105912105\n",
      "540 0.1 14.0622714154\n",
      "540 0.01 10.2524512729\n",
      "540 0.001 12.1640085375\n",
      "540 0.0001 20.1012558608\n",
      "550 10 60.9206380181\n",
      "550 1 32.4317225319\n",
      "550 0.1 14.078785044\n",
      "550 0.01 10.2457008613\n",
      "550 0.001 12.0926217545\n",
      "550 0.0001 19.9730339764\n",
      "560 10 61.1355797787\n",
      "560 1 32.5530319683\n",
      "560 0.1 14.0959359207\n",
      "560 0.01 10.2403749725\n",
      "560 0.001 12.0253644637\n",
      "560 0.0001 19.8422191264\n",
      "570 10 61.3497668561\n",
      "570 1 32.6745112304\n",
      "570 0.1 14.1136796526\n",
      "570 0.01 10.2363810063\n",
      "570 0.001 11.962185179\n",
      "570 0.0001 19.7091680379\n",
      "580 10 61.5631868913\n",
      "580 1 32.7961489945\n",
      "580 0.1 14.1319750419\n",
      "580 0.01 10.2336272254\n",
      "580 0.001 11.9029894951\n",
      "580 0.0001 19.5742906925\n",
      "590 10 61.7758280161\n",
      "590 1 32.9179311891\n",
      "590 0.1 14.1507837707\n",
      "590 0.01 10.2320219533\n",
      "590 0.001 11.8476496377\n",
      "590 0.0001 19.4380257902\n",
      "600 10 61.9876788616\n",
      "600 1 33.0398412985\n",
      "600 0.1 14.1700701607\n",
      "600 0.01 10.2314731803\n",
      "600 0.001 11.7960133183\n",
      "600 0.0001 19.3008208697\n",
      "best mse: 10.231473180258739, with vark = 600 and var = 0.01\n"
     ]
    }
   ],
   "source": [
    "\n",
    "best_mse = np.inf\n",
    "best_vk = 0\n",
    "best_v = 0\n",
    "var_ks = np.arange(300,610,10)\n",
    "vars_ = [10,1,0.1,0.01,0.001,0.0001]\n",
    "c_mse = np.zeros(shape = (len(var_ks),len(vars_)))\n",
    "print(c_mse.shape)\n",
    "for i in range(len(var_ks)):\n",
    "    K_mat = K_matrix(train_in, var_ks[i])\n",
    "    for j in range(len(vars_)):\n",
    "        predictions = pred(test_in, train_in, train_out,K_mat,var_ks[i],vars_[j])\n",
    "        c_mse[i,j] = calc_error(predictions,test_out)\n",
    "        print(var_ks[i], vars_[j], c_mse[i,j])\n",
    "        if(c_mse[i,j]<best_mse):\n",
    "            best_mse = c_mse[i,j]\n",
    "            best_vk = var_ks[i]\n",
    "            best_v = vars_[j]\n",
    "print('best mse: {}, with vark = {} and var = {}'.format(best_mse,best_vk,best_v))\n",
    "# mse = calc_error(predictions,test_out)\n",
    "# print(mse)"
   ]
  },
  {
   "cell_type": "code",
   "execution_count": null,
   "metadata": {
    "collapsed": true
   },
   "outputs": [],
   "source": [
    "# Find a way to visualise MSE for hyperparameter tuning"
   ]
  },
  {
   "cell_type": "code",
   "execution_count": 129,
   "metadata": {},
   "outputs": [
    {
     "name": "stdout",
     "output_type": "stream",
     "text": [
      "1425.4879641532898 [ 10.2641533]\n"
     ]
    }
   ],
   "source": [
    "# Find the run time for optimal hyperparameter\n",
    "vk = 600\n",
    "start = time.time()\n",
    "K_mat = K_matrix(train_in,vk)\n",
    "predictions = pred(test_in, train_in, train_out,K_mat,vk,0.01)\n",
    "end = time.time()\n",
    "total = end - start\n",
    "MSE = calc_error(predictions,test_out)\n",
    "print(total,MSE)"
   ]
  },
  {
   "cell_type": "markdown",
   "metadata": {},
   "source": [
    "## Toy Problem on Gaussian Process regression"
   ]
  },
  {
   "cell_type": "code",
   "execution_count": 75,
   "metadata": {},
   "outputs": [
    {
     "name": "stdout",
     "output_type": "stream",
     "text": [
      "Data: 100 exemplars, 2 features\n",
      "Training set size: 60\n",
      "Test set size: 40\n"
     ]
    }
   ],
   "source": [
    "# Load the Toy Problem from the csv file\n",
    "\n",
    "with zipfile.ZipFile('toy.zip') as zf:\n",
    "    with zf.open('toy.csv') as f:\n",
    "        sf = io.TextIOWrapper(f)\n",
    "        reader = csv.reader(sf)\n",
    "        next(reader)\n",
    "        tm = []\n",
    "        for row in reader:\n",
    "            tm.append([float(v) for v in row])\n",
    "        tm = np.array(tm, dtype=np.float32)\n",
    "\n",
    "print('Data: {} exemplars, {} features'.format(tm.shape[0], tm.shape[1]))\n",
    "np.random.shuffle(tm)\n",
    "# print(tm)\n",
    "\n",
    "split = int(tm.shape[0] * 0.6)\n",
    "\n",
    "toy_train_data = tm[:split,:]\n",
    "toy_test_data = tm[split:,:]\n",
    "\n",
    "mtr, ntr = toy_train_data.shape\n",
    "mtt, ntt = toy_test_data.shape\n",
    "\n",
    "print('Training set size:', toy_train_data.shape[0])\n",
    "print('Test set size:', toy_test_data.shape[0])"
   ]
  },
  {
   "cell_type": "markdown",
   "metadata": {},
   "source": [
    "## Visualise Gaussian Process regression on Toy Problem"
   ]
  },
  {
   "cell_type": "code",
   "execution_count": 74,
   "metadata": {},
   "outputs": [
    {
     "name": "stdout",
     "output_type": "stream",
     "text": [
      "[ 1029.47871553]\n"
     ]
    },
    {
     "data": {
      "image/png": "[encoded data removed]",
      "text/plain": [
       "<matplotlib.figure.Figure at 0x250873bd320>"
      ]
     },
     "metadata": {},
     "output_type": "display_data"
    }
   ],
   "source": [
    "vk = 600\n",
    "K_mat = K_matrix(toy_train_data[:,:ntr-1],vk)\n",
    "toy_predictions = pred(toy_test_data[:,:ntt-1], toy_train_data[:,:ntr-1], toy_train_data[:,-1],K_mat,vk,0.001)\n",
    "toy_MSE = calc_error(toy_predictions,toy_test_data[:,-1])\n",
    "print(toy_MSE)\n",
    "\n",
    "plt.plot(toy_test_data[:,:ntt-1], toy_test_data[:,-1],'r*')\n",
    "plt.plot(toy_test_data[:,:ntt-1], toy_predictions,'b*')\n",
    "plt.title('Gaussian Process (vark = 600, var = 0.001)')\n",
    "plt.xlabel('X')\n",
    "plt.ylabel('X^2')\n",
    "plt.grid(True)\n",
    "plt.show()"
   ]
  }
 ],
 "metadata": {
  "kernelspec": {
   "display_name": "Python 3",
   "language": "python",
   "name": "python3"
  },
  "language_info": {
   "codemirror_mode": {
    "name": "ipython",
    "version": 3
   },
   "file_extension": ".py",
   "mimetype": "text/x-python",
   "name": "python",
   "nbconvert_exporter": "python",
   "pygments_lexer": "ipython3",
   "version": "3.6.2"
  }
 },
 "nbformat": 4,
 "nbformat_minor": 2
}
