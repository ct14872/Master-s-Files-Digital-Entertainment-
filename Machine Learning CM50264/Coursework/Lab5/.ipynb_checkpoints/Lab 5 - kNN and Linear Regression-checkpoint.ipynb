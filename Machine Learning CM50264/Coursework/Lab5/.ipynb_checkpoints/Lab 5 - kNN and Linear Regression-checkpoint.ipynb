{
 "cells": [
  {
   "cell_type": "markdown",
   "metadata": {},
   "source": [
    "# Lab 5: Final"
   ]
  },
  {
   "cell_type": "markdown",
   "metadata": {},
   "source": [
    "## Setting Up the data\n"
   ]
  },
  {
   "cell_type": "code",
   "execution_count": 1,
   "metadata": {
    "collapsed": true
   },
   "outputs": [],
   "source": [
    "%matplotlib inline\n",
    "\n",
    "import zipfile\n",
    "import io\n",
    "import csv\n",
    "import time\n",
    "from random import shuffle\n",
    "import numpy as np\n",
    "import matplotlib.pyplot as plt"
   ]
  },
  {
   "cell_type": "markdown",
   "metadata": {},
   "source": [
    "## Loading the data\n"
   ]
  },
  {
   "cell_type": "code",
   "execution_count": 97,
   "metadata": {},
   "outputs": [
    {
     "name": "stdout",
     "output_type": "stream",
     "text": [
      "Data: 44483 exemplars, 22 features\n",
      "Training set size: 10000\n",
      "Test set size: 5000\n"
     ]
    }
   ],
   "source": [
    "# Loading the data from the csv file located in the zip file\n",
    "sarcos_inv = 'sarcos_inv.zip'\n",
    "sarcos_inv_csv = 'sarcos_inv.csv'\n",
    "\n",
    "with zipfile.ZipFile(sarcos_inv) as zf:\n",
    "    with zf.open(sarcos_inv_csv) as f:\n",
    "        sf = io.TextIOWrapper(f)\n",
    "        reader = csv.reader(sf)\n",
    "        next(reader)\n",
    "        dm = []\n",
    "        for row in reader:\n",
    "            dm.append([float(v) for v in row])\n",
    "        dm = np.array(dm, dtype=np.float32)\n",
    "\n",
    "print('Data: {} exemplars, {} features'.format(dm.shape[0], dm.shape[1]))\n",
    "\n",
    "\n",
    "split = 10000\n",
    "m,n = dm.shape\n",
    "\n",
    "train_data = dm[:split,:]\n",
    "test_data = dm[10001:15001,:]\n",
    "\n",
    "mf,nf = train_data.shape\n",
    "\n",
    "print('Training set size:', train_data.shape[0])\n",
    "print('Test set size:', test_data.shape[0])"
   ]
  },
  {
   "cell_type": "code",
   "execution_count": 3,
   "metadata": {
    "collapsed": true
   },
   "outputs": [],
   "source": [
    "# Mean Squared Error\n",
    "def calc_error(pred, actual):\n",
    "    ssd = 0\n",
    "    for i in range(pred.shape[0]):\n",
    "        subt = pred[i]-actual[i]\n",
    "        square = np.power(subt,2)\n",
    "        ssd += square\n",
    "    return ssd/pred.shape[0]\n"
   ]
  },
  {
   "cell_type": "markdown",
   "metadata": {},
   "source": [
    "## Nearest Neighboor for regression"
   ]
  },
  {
   "cell_type": "code",
   "execution_count": 64,
   "metadata": {
    "collapsed": true
   },
   "outputs": [],
   "source": [
    "class Distance(object):\n",
    "    def __init__(self,distance,tr_index,te_index):\n",
    "        self.distance = distance\n",
    "        self.tr_index = tr_index\n",
    "        self.te_index = te_index\n",
    "\n",
    "def calc_dist(tr,te):\n",
    "    return np.linalg.norm(np.array(tr)-np.array(te))\n",
    "        \n",
    "def kNN(train, test_in, k):\n",
    "    n_d = train.shape[1]\n",
    "    train_in = train[:,:n_d-1]\n",
    "    train_out = train[:,-1]\n",
    "    test_res = np.zeros(test_in.shape[0])\n",
    "    for i in range(test_in.shape[0]):\n",
    "        distances = []\n",
    "        # find distances and store in object\n",
    "        for j in range(train_in.shape[0]):\n",
    "            dist = calc_dist(train_in[j,:],test_in[i,:])\n",
    "            distances.append(Distance(dist,j,i))\n",
    "        import operator\n",
    "        # sort distances\n",
    "        distances.sort(key=operator.attrgetter('distance'))\n",
    "        temp = 0\n",
    "        #get k least distances\n",
    "        for nn in range(k):\n",
    "            temp += train_out[distances[nn].tr_index]\n",
    "        test_res[i] = temp\n",
    "\n",
    "    test_res = test_res/k\n",
    "    return test_res\n",
    "\n"
   ]
  },
  {
   "cell_type": "code",
   "execution_count": 44,
   "metadata": {},
   "outputs": [
    {
     "name": "stdout",
     "output_type": "stream",
     "text": [
      "trying k = 1 ...\n",
      "Using 1.0 neighboors the MSE is equal to 54.23866549278534\n",
      "trying k = 3 ...\n",
      "Using 3.0 neighboors the MSE is equal to 46.51964894176228\n",
      "trying k = 5 ...\n",
      "Using 5.0 neighboors the MSE is equal to 47.31434367776248\n",
      "trying k = 7 ...\n",
      "Using 7.0 neighboors the MSE is equal to 49.922398357669465\n",
      "trying k = 9 ...\n",
      "Using 9.0 neighboors the MSE is equal to 51.943745904954454\n",
      "trying k = 11 ...\n",
      "Using 11.0 neighboors the MSE is equal to 53.746200408410864\n",
      "trying k = 13 ...\n",
      "Using 13.0 neighboors the MSE is equal to 55.569307478154066\n",
      "trying k = 15 ...\n",
      "Using 15.0 neighboors the MSE is equal to 56.84661793782912\n",
      "trying k = 17 ...\n",
      "Using 17.0 neighboors the MSE is equal to 58.53788737192573\n",
      "trying k = 19 ...\n",
      "Using 19.0 neighboors the MSE is equal to 60.09366073291857\n",
      "trying k = 21 ...\n",
      "Using 21.0 neighboors the MSE is equal to 61.36668362263631\n",
      "Best configuration uses 3 neighboors and has an MSE score of 46.51964894176228\n"
     ]
    }
   ],
   "source": [
    "# Test hyperparameter k\n",
    "kk = 1\n",
    "k_max = 23\n",
    "min_mse = np.inf\n",
    "best_k = 0\n",
    "k_mse = np.zeros(shape = (11,2))\n",
    "ind = 0\n",
    "while(kk!=k_max):\n",
    "    print('trying k = {} ...'.format(kk))\n",
    "    test_instance = test_data[:,:nf-1]\n",
    "    test_res = kNN(train_data,test_instance,kk)\n",
    "    mse = calc_error(test_res,test_data[:,-1])\n",
    "    k_mse[ind,0] = kk\n",
    "    k_mse[ind,1] = mse\n",
    "    print('Using {} neighboors the MSE is equal to {}'.format(k_mse[ind,0],k_mse[ind,1]))\n",
    "    if(mse<min_mse):\n",
    "        min_mse = mse\n",
    "        best_k = kk\n",
    "    kk += 2\n",
    "    ind+= 1\n",
    "    \n",
    "print('Best configuration uses {} neighboors and has an MSE score of {}'.format(best_k,min_mse) )\n",
    "\n"
   ]
  },
  {
   "cell_type": "code",
   "execution_count": 47,
   "metadata": {},
   "outputs": [
    {
     "name": "stdout",
     "output_type": "stream",
     "text": [
      "[ 54.23866549  46.51964894  47.31434368  49.92239836  51.9437459\n",
      "  53.74620041  55.56930748  56.84661794  58.53788737  60.09366073\n",
      "  61.36668362]\n"
     ]
    },
    {
     "data": {
      "image/png": "[encoded data removed]",
      "text/plain": [
       "<matplotlib.figure.Figure at 0x1f56a8dcf60>"
      ]
     },
     "metadata": {},
     "output_type": "display_data"
    },
    {
     "data": {
      "text/plain": [
       "<matplotlib.figure.Figure at 0x1f5696fe2e8>"
      ]
     },
     "metadata": {},
     "output_type": "display_data"
    }
   ],
   "source": [
    "# Plot MSE graph depending on each k\n",
    "\n",
    "plt.plot(k_mse[:,0],k_mse[:,1])\n",
    "plt.xticks([1,3,5,7,9,11,13,15,17,19,21])\n",
    "plt.grid(True)\n",
    "print(k_mse[:,1])\n",
    "plt.xlabel('k')\n",
    "plt.ylabel('MSE')\n",
    "plt.title('k-Neighboors Tuning')\n",
    "plt.show()\n",
    "plt.savefig('k-Neighboors Tuning')"
   ]
  },
  {
   "cell_type": "code",
   "execution_count": 30,
   "metadata": {},
   "outputs": [
    {
     "name": "stdout",
     "output_type": "stream",
     "text": [
      "354.7364695072174 60.0936607329\n"
     ]
    }
   ],
   "source": [
    "#Find the run time of nearest neighboor\n",
    "start = time.time()\n",
    "test_instance = test_data[:,:nf-1]\n",
    "test_res = kNN(train_data,test_instance,19)\n",
    "end = time.time()\n",
    "total = end-start\n",
    "mse = calc_error(test_res,test_data[:,-1])\n",
    "print(total,mse)"
   ]
  },
  {
   "cell_type": "code",
   "execution_count": 9,
   "metadata": {},
   "outputs": [],
   "source": [
    "# Multivariate Linear Regression\n",
    "\n",
    "# 1. Feature Normalisation - normalise features to have similar range values\n",
    "\n",
    "def normalise_data(x_unnormalised):\n",
    "    a = np.zeros(x_unnormalised.shape[1])\n",
    "    b = np.zeros(x_unnormalised.shape[1])\n",
    "    x_normalised = np.zeros(x_unnormalised.shape)\n",
    "    for i in range(x_unnormalised.shape[1]):\n",
    "        b[i] = np.mean(x_unnormalised[:,i]);\n",
    "        zero_mean_feat = x_unnormalised[:,i] - b[i]\n",
    "        a[i] = (1.0/np.std(zero_mean_feat))\n",
    "        x_normalised[:,i] = a[i]*(zero_mean_feat) \n",
    "    return x_normalised, a, b\n",
    "\n",
    "normalised, a ,b = normalise_data(train_data)\n",
    "# normalised_test, c, d = normalise_data(test_data)\n",
    "\n",
    "def unnormalise_data(x_normalised, a, b):\n",
    "    x_unnormalised = np.zeros(x_normalised.shape)\n",
    "    for i  in range(x_normalised.shape[1]):\n",
    "        temp = x_normalised[:,i]/a[i]\n",
    "        x_unnormalised[:,i] = temp +b[i]\n",
    "    return x_unnormalised\n",
    "\n",
    "unnorm = unnormalise_data(normalised,a,b)\n",
    "assert np.all( np.isclose(unnorm,train_data, atol = 0.0001))\n",
    "\n",
    "# 2. Derive the vectorised cost function \n",
    "\n",
    "def vectorised_cost(in_d, out_d, theta):\n",
    "    m_exem = in_d.shape[0]\n",
    "    temp = np.dot(in_d,theta)\n",
    "    temp -= out_d\n",
    "    cost = (1.0/(2*m_exem)) * np.dot(np.transpose(temp),temp)\n",
    "    return cost\n",
    "\n",
    "# 3. Vectorised Gradient descent\n",
    "\n",
    "def grad_descent(in_d, out_d, theta, learn_rate, iters):\n",
    "    m_exem = in_d.shape[0]\n",
    "    costs = np.zeros(shape = (iters+1,1))\n",
    "    costs[0] = vectorised_cost(in_d, out_d, theta)\n",
    "    converge_n = 0\n",
    "    \n",
    "    for i in range(iters):\n",
    "        temp = in_d.dot(theta)# np.dot(in_d,theta)\n",
    "        for j in range(theta.shape[0]):\n",
    "            temp_in = in_d[:,j]\n",
    "            temp_in.shape = (m_exem,1)\n",
    "            theta[j][0] = theta[j][0] - learn_rate *(1.0/m_exem)*np.sum((temp-out_d)*temp_in)\n",
    "        costs[i+1,0] = vectorised_cost(in_d,out_d,theta)\n",
    "        if(np.isclose(costs[i,0],costs[i+1,0])):\n",
    "            converge_n += 1\n",
    "        if(converge_n == 10):\n",
    "            print('Converged in {} iterations using a = {}'.format(i,learn_rate))\n",
    "            break\n",
    "    return theta, costs\n",
    "\n"
   ]
  },
  {
   "cell_type": "code",
   "execution_count": 59,
   "metadata": {},
   "outputs": [
    {
     "name": "stdout",
     "output_type": "stream",
     "text": [
      "50.33837914466858\n"
     ]
    }
   ],
   "source": [
    "# Setting up the data (unnormalized)\n",
    "X = train_data[:,:nf-1]\n",
    "Y = train_data[:,-1]\n",
    "\n",
    "# Setting up test data\n",
    "\n",
    "X_t = test_data[:,:nf-1]\n",
    "Y_t = test_data[:,-1]\n",
    "\n",
    "m,n = X.shape\n",
    "mt,nt = X_t.shape\n",
    "\n",
    "X_ones = np.ones(shape = (X.shape[0],1))\n",
    "X_ones_t = np.ones(shape = (X_t.shape[0],1))\n",
    "\n",
    "X = np.append(X_ones,X,axis=1)\n",
    "X_t = np.append(X_ones_t,X_t,axis=1)\n",
    "\n",
    "thetas = np.zeros(shape = (n+1,1))\n",
    "Y.shape = (m,1)\n",
    "Y_t.shape = (mt,1)\n",
    "\n",
    "start = time.time()\n",
    "thetas, costs = grad_descent(X,Y,thetas,0.001,80000)\n",
    "end = time.time()\n",
    "total = end-start\n",
    "\n",
    "\n",
    "\n",
    "# Plot cost graph\n",
    "fig = plt.figure('Cost function convergence')\n",
    "plt.plot(costs)\n",
    "plt.grid(True)\n",
    "plt.xlabel('Iterations')\n",
    "plt.ylabel('Cost Value')\n",
    "plt.title('Cost function convergence')\n",
    "plt.show()\n",
    "\n",
    "predicted = np.zeros(Y_t.shape)\n",
    "for i in range(mt):\n",
    "    predicted[i] = X_t[i,:].dot(thetas) \n",
    "\n",
    "mse = calc_error(predicted,Y_t)\n",
    "print(predicted[59],Y_t[59])\n",
    "print(mse)\n",
    "\n"
   ]
  },
  {
   "cell_type": "code",
   "execution_count": 57,
   "metadata": {},
   "outputs": [
    {
     "name": "stdout",
     "output_type": "stream",
     "text": [
      "Converged in 946 iterations using a = 0.1\n",
      "Learning rate 0.1, mse = [ 0.2948239]\n",
      "0.1 [ 0.2948239]\n",
      "Converged in 2903 iterations using a = 0.01\n",
      "Learning rate 0.01, mse = [ 0.28438394]\n",
      "0.01 [ 0.28438394]\n",
      "Converged in 10814 iterations using a = 0.001\n",
      "Learning rate 0.001, mse = [ 0.2624498]\n",
      "0.001 [ 0.2624498]\n",
      "Converged in 38374 iterations using a = 0.0001\n",
      "Learning rate 0.0001, mse = [ 0.23610638]\n",
      "0.0001 [ 0.23610638]\n",
      "Converged in 67270 iterations using a = 1e-05\n",
      "Learning rate 1e-05, mse = [ 0.26173836]\n",
      "The best learning rate (a) is 0.0001 and gives an MSE of [ 0.23610638]\n"
     ]
    },
    {
     "data": {
      "image/png": "[encoded data removed]",
      "text/plain": [
       "<matplotlib.figure.Figure at 0x1f56966eef0>"
      ]
     },
     "metadata": {},
     "output_type": "display_data"
    },
    {
     "data": {
      "text/plain": [
       "<matplotlib.figure.Figure at 0x1f569665f60>"
      ]
     },
     "metadata": {},
     "output_type": "display_data"
    }
   ],
   "source": [
    "# Setting up the data (normalized)\n",
    "X = normalised[:,:nf-1]\n",
    "Y = normalised[:,-1]\n",
    "\n",
    "# Setting up test data\n",
    "test_data_normed,_,_ = normalise_data(test_data)\n",
    "X_t = test_data_normed[:,:nf-1]\n",
    "Y_t = test_data_normed[:,-1]\n",
    "\n",
    "m,n = X.shape\n",
    "mt,nt = X_t.shape\n",
    "\n",
    "X_ones = np.ones(shape = (X.shape[0],1))\n",
    "X_ones_t = np.ones(shape = (X_t.shape[0],1))\n",
    "\n",
    "X = np.append(X_ones,X,axis=1)\n",
    "X_t = np.append(X_ones_t,X_t,axis=1)\n",
    "\n",
    "thetas = np.zeros(shape = (n+1,1))\n",
    "Y.shape = (m,1)\n",
    "Y_t.shape = (mt,1)\n",
    "\n",
    "# hyperparameter tuning for learning rate\n",
    "learn_rate = 0.1\n",
    "best_lr = 0\n",
    "iterations = 5\n",
    "min_mse = np.inf\n",
    "predicted = np.zeros(Y_t.shape)\n",
    "fig = plt.figure('Cost function convergence')\n",
    "for i in range(iterations):\n",
    "    thetas = np.zeros(shape = (n+1,1))\n",
    "    curr_mse = np.inf\n",
    "    thetas, costs = grad_descent(X,Y,thetas,learn_rate,80000)\n",
    "    # Plot cost graph\n",
    "    plt.plot(costs, label = 'a = {}'.format(learn_rate))\n",
    "    plt.grid(True)\n",
    "\n",
    "    for i in range(mt):\n",
    "        predicted[i] = X_t[i,:].dot(thetas) \n",
    "    curr_mse = calc_error(predicted,Y_t)\n",
    "    print('Learning rate {}, mse = {}'.format(learn_rate,curr_mse))\n",
    "    if curr_mse < min_mse:\n",
    "        min_mse = curr_mse\n",
    "        best_lr = learn_rate\n",
    "        print(best_lr,min_mse)\n",
    "    learn_rate = learn_rate/10\n",
    "    \n",
    "print('The best learning rate (a) is {} and gives an MSE of {}'.format(best_lr,min_mse))\n",
    "plt.xlabel('Iterations')\n",
    "plt.ylabel('Cost Value')\n",
    "plt.title('Cost function convergence')\n",
    "plt.legend()\n",
    "plt.show()\n",
    "plt.savefig('linear_learn_rate')"
   ]
  },
  {
   "cell_type": "markdown",
   "metadata": {},
   "source": []
  },
  {
   "cell_type": "code",
   "execution_count": 98,
   "metadata": {},
   "outputs": [
    {
     "name": "stdout",
     "output_type": "stream",
     "text": [
      "Converged in 27245 iterations using a = 0.001\n",
      "Learning rate 0.001, mse = [ 23.6259594]\n",
      "0.001 [ 23.6259594]\n",
      "Converged in 69052 iterations using a = 0.0001\n",
      "Learning rate 0.0001, mse = [ 78.15092867]\n",
      "Converged in 22336 iterations using a = 1e-05\n",
      "Learning rate 1e-05, mse = [ 264.56859573]\n",
      "Converged in 17360 iterations using a = 1.0000000000000002e-06\n",
      "Learning rate 1.0000000000000002e-06, mse = [ 330.27590841]\n",
      "Converged in 12016 iterations using a = 1.0000000000000002e-07\n",
      "Learning rate 1.0000000000000002e-07, mse = [ 372.30502392]\n"
     ]
    }
   ],
   "source": [
    "# Setting up the data( unnormalized)\n",
    "X = train_data[:,:nf-1]\n",
    "Y = train_data[:,-1]\n",
    "\n",
    "# Setting up test data\n",
    "test_data_normed,_,_ = normalise_data(test_data)\n",
    "X_t = test_data[:,:nf-1]\n",
    "Y_t = test_data[:,-1]\n",
    "\n",
    "m,n = X.shape\n",
    "mt,nt = X_t.shape\n",
    "\n",
    "X_ones = np.ones(shape = (X.shape[0],1))\n",
    "X_ones_t = np.ones(shape = (X_t.shape[0],1))\n",
    "\n",
    "X = np.append(X_ones,X,axis=1)\n",
    "X_t = np.append(X_ones_t,X_t,axis=1)\n",
    "\n",
    "thetas = np.zeros(shape = (n+1,1))\n",
    "Y.shape = (m,1)\n",
    "Y_t.shape = (mt,1)\n",
    "\n",
    "learn_rate = 0.001\n",
    "best_lr = 0\n",
    "iterations = 5\n",
    "min_mse = np.inf\n",
    "mses = np.zeros(shape=(2,5))\n",
    "predicted = np.zeros(Y_t.shape)\n",
    "for i in range(iterations):\n",
    "    thetas = np.zeros(shape = (n+1,1))\n",
    "#     curr_mse = np.inf\n",
    "    thetas, costs = grad_descent(X,Y,thetas,learn_rate,80000)\n",
    "\n",
    "    for j in range(mt):\n",
    "        predicted[j] = X_t[j,:].dot(thetas) \n",
    "    curr_mse = calc_error(predicted,Y_t)\n",
    "    mses[0,i] = learn_rate\n",
    "    mses[1,i] = curr_mse\n",
    "    print('Learning rate {}, mse = {}'.format(learn_rate,curr_mse))\n",
    "    if curr_mse < min_mse:\n",
    "        min_mse = curr_mse\n",
    "        best_lr = learn_rate\n",
    "        print(best_lr,min_mse)\n",
    "    learn_rate = learn_rate/10"
   ]
  },
  {
   "cell_type": "markdown",
   "metadata": {},
   "source": [
    "## Toy Problem - From a csv file\n"
   ]
  },
  {
   "cell_type": "code",
   "execution_count": 83,
   "metadata": {},
   "outputs": [
    {
     "name": "stdout",
     "output_type": "stream",
     "text": [
      "Data: 100 exemplars, 2 features\n",
      "[[  4.30000000e+01   1.84900000e+03]\n",
      " [  1.60000000e+01   2.56000000e+02]\n",
      " [  5.20000000e+01   2.70400000e+03]\n",
      " [  3.60000000e+01   1.29600000e+03]\n",
      " [  2.90000000e+01   8.41000000e+02]\n",
      " [  2.00000000e+01   4.00000000e+02]\n",
      " [  4.00000000e+01   1.60000000e+03]\n",
      " [  2.10000000e+01   4.41000000e+02]\n",
      " [  2.20000000e+01   4.84000000e+02]\n",
      " [  1.00000000e+00   1.00000000e+00]\n",
      " [  1.40000000e+01   1.96000000e+02]\n",
      " [  3.80000000e+01   1.44400000e+03]\n",
      " [  3.70000000e+01   1.36900000e+03]\n",
      " [  4.70000000e+01   2.20900000e+03]\n",
      " [  6.00000000e+00   3.60000000e+01]\n",
      " [  2.50000000e+01   6.25000000e+02]\n",
      " [  6.80000000e+01   4.62400000e+03]\n",
      " [  7.50000000e+01   5.62500000e+03]\n",
      " [  6.10000000e+01   3.72100000e+03]\n",
      " [  3.00000000e+00   9.00000000e+00]\n",
      " [  1.00000000e+02   1.00000000e+04]\n",
      " [  9.00000000e+01   8.10000000e+03]\n",
      " [  7.10000000e+01   5.04100000e+03]\n",
      " [  9.80000000e+01   9.60400000e+03]\n",
      " [  6.50000000e+01   4.22500000e+03]\n",
      " [  6.30000000e+01   3.96900000e+03]\n",
      " [  5.10000000e+01   2.60100000e+03]\n",
      " [  8.00000000e+01   6.40000000e+03]\n",
      " [  4.60000000e+01   2.11600000e+03]\n",
      " [  9.50000000e+01   9.02500000e+03]\n",
      " [  1.30000000e+01   1.69000000e+02]\n",
      " [  9.20000000e+01   8.46400000e+03]\n",
      " [  2.80000000e+01   7.84000000e+02]\n",
      " [  6.00000000e+01   3.60000000e+03]\n",
      " [  9.60000000e+01   9.21600000e+03]\n",
      " [  3.30000000e+01   1.08900000e+03]\n",
      " [  7.00000000e+01   4.90000000e+03]\n",
      " [  7.90000000e+01   6.24100000e+03]\n",
      " [  5.90000000e+01   3.48100000e+03]\n",
      " [  1.10000000e+01   1.21000000e+02]\n",
      " [  2.40000000e+01   5.76000000e+02]\n",
      " [  4.80000000e+01   2.30400000e+03]\n",
      " [  5.70000000e+01   3.24900000e+03]\n",
      " [  5.40000000e+01   2.91600000e+03]\n",
      " [  8.50000000e+01   7.22500000e+03]\n",
      " [  7.00000000e+00   4.90000000e+01]\n",
      " [  7.70000000e+01   5.92900000e+03]\n",
      " [  7.40000000e+01   5.47600000e+03]\n",
      " [  3.10000000e+01   9.61000000e+02]\n",
      " [  2.60000000e+01   6.76000000e+02]\n",
      " [  4.50000000e+01   2.02500000e+03]\n",
      " [  1.80000000e+01   3.24000000e+02]\n",
      " [  3.00000000e+01   9.00000000e+02]\n",
      " [  8.60000000e+01   7.39600000e+03]\n",
      " [  1.70000000e+01   2.89000000e+02]\n",
      " [  5.30000000e+01   2.80900000e+03]\n",
      " [  9.90000000e+01   9.80100000e+03]\n",
      " [  3.40000000e+01   1.15600000e+03]\n",
      " [  8.30000000e+01   6.88900000e+03]\n",
      " [  4.20000000e+01   1.76400000e+03]\n",
      " [  8.00000000e+00   6.40000000e+01]\n",
      " [  8.70000000e+01   7.56900000e+03]\n",
      " [  9.00000000e+00   8.10000000e+01]\n",
      " [  1.20000000e+01   1.44000000e+02]\n",
      " [  3.90000000e+01   1.52100000e+03]\n",
      " [  1.00000000e+01   1.00000000e+02]\n",
      " [  2.00000000e+00   4.00000000e+00]\n",
      " [  8.90000000e+01   7.92100000e+03]\n",
      " [  4.10000000e+01   1.68100000e+03]\n",
      " [  6.90000000e+01   4.76100000e+03]\n",
      " [  4.40000000e+01   1.93600000e+03]\n",
      " [  3.50000000e+01   1.22500000e+03]\n",
      " [  7.20000000e+01   5.18400000e+03]\n",
      " [  5.00000000e+00   2.50000000e+01]\n",
      " [  4.90000000e+01   2.40100000e+03]\n",
      " [  7.30000000e+01   5.32900000e+03]\n",
      " [  8.10000000e+01   6.56100000e+03]\n",
      " [  6.40000000e+01   4.09600000e+03]\n",
      " [  8.80000000e+01   7.74400000e+03]\n",
      " [  1.50000000e+01   2.25000000e+02]\n",
      " [  3.20000000e+01   1.02400000e+03]\n",
      " [  6.20000000e+01   3.84400000e+03]\n",
      " [  5.60000000e+01   3.13600000e+03]\n",
      " [  9.30000000e+01   8.64900000e+03]\n",
      " [  6.60000000e+01   4.35600000e+03]\n",
      " [  1.90000000e+01   3.61000000e+02]\n",
      " [  9.40000000e+01   8.83600000e+03]\n",
      " [  8.20000000e+01   6.72400000e+03]\n",
      " [  7.80000000e+01   6.08400000e+03]\n",
      " [  9.10000000e+01   8.28100000e+03]\n",
      " [  9.70000000e+01   9.40900000e+03]\n",
      " [  7.60000000e+01   5.77600000e+03]\n",
      " [  5.50000000e+01   3.02500000e+03]\n",
      " [  5.80000000e+01   3.36400000e+03]\n",
      " [  2.30000000e+01   5.29000000e+02]\n",
      " [  4.00000000e+00   1.60000000e+01]\n",
      " [  2.70000000e+01   7.29000000e+02]\n",
      " [  5.00000000e+01   2.50000000e+03]\n",
      " [  8.40000000e+01   7.05600000e+03]\n",
      " [  6.70000000e+01   4.48900000e+03]]\n",
      "Training set size: 60\n",
      "Test set size: 40\n"
     ]
    }
   ],
   "source": [
    "#Loading the toy problem from a csv file\n",
    "\n",
    "with zipfile.ZipFile('toy.zip') as zf:\n",
    "    with zf.open('toy.csv') as f:\n",
    "        sf = io.TextIOWrapper(f)\n",
    "        reader = csv.reader(sf)\n",
    "        next(reader)\n",
    "        tm = []\n",
    "        for row in reader:\n",
    "            tm.append([float(v) for v in row])\n",
    "        tm = np.array(tm, dtype=np.float32)\n",
    "\n",
    "print('Data: {} exemplars, {} features'.format(tm.shape[0], tm.shape[1]))\n",
    "\n",
    "np.random.shuffle(tm)\n",
    "\n",
    "split = int(tm.shape[0] * 0.6)\n",
    "\n",
    "toy_train_data = tm[:split,:]\n",
    "\n",
    "toy_test_data = tm[split:,:]\n",
    "\n",
    "print('Training set size:', toy_train_data.shape[0])\n",
    "print('Test set size:', toy_test_data.shape[0])"
   ]
  },
  {
   "cell_type": "markdown",
   "metadata": {},
   "source": [
    "## Running kNN on Toy Problem"
   ]
  },
  {
   "cell_type": "code",
   "execution_count": 96,
   "metadata": {},
   "outputs": [
    {
     "data": {
      "image/png": "[encoded data removed]",
      "text/plain": [
       "<matplotlib.figure.Figure at 0x1fe79726128>"
      ]
     },
     "metadata": {},
     "output_type": "display_data"
    }
   ],
   "source": [
    "mtt, ntt = toy_test_data.shape\n",
    "\n",
    "toy_test_instance = toy_test_data[:,:ntt-1]\n",
    "\n",
    "\n",
    "toy_test_res = kNN(toy_train_data,toy_test_instance,5)\n",
    "\n",
    "mse = calc_error(toy_test_res,toy_test_data[:,-1])\n",
    "\n",
    "plt.plot(toy_test_instance,toy_test_data[:,-1],'r*')\n",
    "plt.plot(toy_test_instance,toy_test_res,'b*')\n",
    "plt.xlabel('X')\n",
    "plt.ylabel('X^2')\n",
    "plt.grid(True)\n",
    "plt. title('kNN (k = 5)')\n",
    "plt.show()\n",
    "\n"
   ]
  },
  {
   "cell_type": "markdown",
   "metadata": {},
   "source": [
    "## Running Linear Regression on Toy Problem"
   ]
  },
  {
   "cell_type": "code",
   "execution_count": 95,
   "metadata": {},
   "outputs": [
    {
     "name": "stdout",
     "output_type": "stream",
     "text": [
      "Converged in 50 iterations using a = 0.1\n"
     ]
    },
    {
     "data": {
      "image/png": "[encoded data removed]",
      "text/plain": [
       "<matplotlib.figure.Figure at 0x1fe7a0e9320>"
      ]
     },
     "metadata": {},
     "output_type": "display_data"
    }
   ],
   "source": [
    "# Setting up the data\n",
    "X_toy = normalised[:,:ntt-1]\n",
    "Y_toy = normalised[:,-1]\n",
    "\n",
    "# Setting up test data\n",
    "toy_test_data_normed,_,_ = normalise_data(toy_test_data)\n",
    "X_t_toy = toy_test_data_normed[:,:ntt-1]\n",
    "Y_t_toy = toy_test_data_normed[:,-1]\n",
    "\n",
    "mtr,ntr = X_toy.shape\n",
    "mte,nte = X_t_toy.shape\n",
    "\n",
    "X_ones_toy = np.ones(shape = (X_toy.shape[0],1))\n",
    "X_ones_t_toy = np.ones(shape = (X_t_toy.shape[0],1))\n",
    "\n",
    "X_toy = np.append(X_ones_toy,X_toy,axis=1)\n",
    "X_t_toy = np.append(X_ones_t_toy,X_t_toy,axis=1)\n",
    "\n",
    "thetas_toy = np.zeros(shape = (ntr+1,1))\n",
    "Y_toy.shape = (mtr,1)\n",
    "Y_t_toy.shape = (mte,1)\n",
    "thetas_toy, costs = grad_descent(X_toy,Y_toy,thetas_toy,0.1,4000)\n",
    "\n",
    "predicted_toy = np.zeros(Y_t_toy.shape)\n",
    "for i in range(mte):\n",
    "    predicted_toy[i] = X_t_toy[i,:].dot(thetas_toy) \n",
    "toy_mse = calc_error(predicted_toy,Y_t_toy)\n",
    "\n",
    "plt.plot(X_t_toy[:,1],Y_t_toy,'r*')\n",
    "plt.plot(X_t_toy[:,1],predicted_toy,'b*')\n",
    "plt.xlabel('X')\n",
    "plt.ylabel('X^2')\n",
    "plt.title('Linear Regression (a = 0.1)')\n",
    "plt.grid(True)\n",
    "plt.show()"
   ]
  }
 ],
 "metadata": {
  "kernelspec": {
   "display_name": "Python 3",
   "language": "python",
   "name": "python3"
  },
  "language_info": {
   "codemirror_mode": {
    "name": "ipython",
    "version": 3
   },
   "file_extension": ".py",
   "mimetype": "text/x-python",
   "name": "python",
   "nbconvert_exporter": "python",
   "pygments_lexer": "ipython3",
   "version": "3.6.2"
  }
 },
 "nbformat": 4,
 "nbformat_minor": 2
}
