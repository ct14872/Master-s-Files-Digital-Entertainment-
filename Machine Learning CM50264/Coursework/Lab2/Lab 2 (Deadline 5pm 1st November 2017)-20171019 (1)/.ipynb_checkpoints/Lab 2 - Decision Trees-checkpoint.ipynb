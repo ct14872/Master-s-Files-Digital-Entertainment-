{
 "cells": [
  {
   "cell_type": "markdown",
   "metadata": {},
   "source": [
    "# Lab 2:  Decision trees\n",
    "The following exercise takes you through for implementing decision trees. It involves data manipulation/visualisation, hyperparameter selection, recursion, and building a prediction model. We will use a binary classification problem: Breast cancer diagnosis."
   ]
  },
  {
   "cell_type": "markdown",
   "metadata": {},
   "source": [
    "## Marking and Submission\n",
    "\n",
    "These lab exercises are marked, and contribute to your final grade. For this lab exercise there are 6 places where you are expected to enter your own code, for 15 marks overall. Every place you have to add code is indicated by\n",
    "\n",
    "`# **************************************************************** n marks`\n",
    "\n",
    "with instructions above the code block.\n",
    "\n",
    "Please submit your completed workbook using Moodle before 5pm on the 1st November 2017. The workbook you submit must be an `.ipynb` file, which is saved into the directory you're running Jupyter; alternatively you can download it from the menu above using `File -> Download As -> Notebook (.ipynb)`. Remember to save your work regularly (Save and checkpoint in the File menu, the icon of a floppy disk, or Ctrl-S); the version you submit should have all code blocks showing the results (if any) of execution below them. You will normally receive feedback within a week.\n"
   ]
  },
  {
   "cell_type": "code",
   "execution_count": 2,
   "metadata": {
    "collapsed": true
   },
   "outputs": [],
   "source": [
    "%matplotlib inline\n",
    "import numpy as np\n",
    "\n",
    "from sklearn import datasets as ds\n",
    "from sklearn.decomposition import PCA\n",
    "from sklearn import preprocessing\n",
    "from __future__ import print_function\n",
    "\n",
    "import matplotlib.pyplot as plt"
   ]
  },
  {
   "cell_type": "markdown",
   "metadata": {},
   "source": [
    "## Import data\n",
    "The first step of any machine learning problem is to load the data. In this tutorial you don't have to download any dataset since we are using a built-in dataset provided by the scikit learn package."
   ]
  },
  {
   "cell_type": "code",
   "execution_count": 3,
   "metadata": {
    "collapsed": true
   },
   "outputs": [],
   "source": [
    "data_all = ds.load_breast_cancer()\n",
    "\n",
    "x = data_all.data\n",
    "y = data_all.target\n",
    "\n",
    "y_names = data_all.target_names \n",
    "\n",
    "feature_names = data_all.feature_names"
   ]
  },
  {
   "cell_type": "markdown",
   "metadata": {},
   "source": [
    "## Breast Cancer Wisconsin (Diagnostic) Database\n",
    "A description of the dataset used is provided here.\n",
    "\n",
    "Data Set Characteristics:\n",
    "    :Number of Instances: 569\n",
    "\n",
    "    :Number of Attributes: 30 numeric, predictive attributes and the class\n",
    "\n",
    "    :Attribute Information:\n",
    "        - radius (mean of distances from center to points on the perimeter)\n",
    "        - texture (standard deviation of gray-scale values)\n",
    "        - perimeter\n",
    "        - area\n",
    "        - smoothness (local variation in radius lengths)\n",
    "        - compactness (perimeter^2 / area - 1.0)\n",
    "        - concavity (severity of concave portions of the contour)\n",
    "        - concave points (number of concave portions of the contour)\n",
    "        - symmetry \n",
    "        - fractal dimension (\"coastline approximation\" - 1)\n",
    "\n",
    "        The mean, standard error, and \"worst\" or largest (mean of the three\n",
    "        largest values) of these features were computed for each image,\n",
    "        resulting in 30 features.  For instance, field 3 is Mean Radius, field\n",
    "        13 is Radius SE, field 23 is Worst Radius.\n",
    "\n",
    "        - target class:\n",
    "                - WDBC-Malignant\n",
    "                - WDBC-Benign\n",
    "\n",
    "    :Summary Statistics:\n",
    "\n",
    "    ===================================== ====== ======\n",
    "                                           Min    Max\n",
    "    ===================================== ====== ======\n",
    "    radius (mean):                        6.981  28.11\n",
    "    texture (mean):                       9.71   39.28\n",
    "    perimeter (mean):                     43.79  188.5\n",
    "    area (mean):                          143.5  2501.0\n",
    "    smoothness (mean):                    0.053  0.163\n",
    "    compactness (mean):                   0.019  0.345\n",
    "    concavity (mean):                     0.0    0.427\n",
    "    concave points (mean):                0.0    0.201\n",
    "    symmetry (mean):                      0.106  0.304\n",
    "    fractal dimension (mean):             0.05   0.097\n",
    "    radius (standard error):              0.112  2.873\n",
    "    texture (standard error):             0.36   4.885\n",
    "    perimeter (standard error):           0.757  21.98\n",
    "    area (standard error):                6.802  542.2\n",
    "    smoothness (standard error):          0.002  0.031\n",
    "    compactness (standard error):         0.002  0.135\n",
    "    concavity (standard error):           0.0    0.396\n",
    "    concave points (standard error):      0.0    0.053\n",
    "    symmetry (standard error):            0.008  0.079\n",
    "    fractal dimension (standard error):   0.001  0.03\n",
    "    radius (worst):                       7.93   36.04\n",
    "    texture (worst):                      12.02  49.54\n",
    "    perimeter (worst):                    50.41  251.2\n",
    "    area (worst):                         185.2  4254.0\n",
    "    smoothness (worst):                   0.071  0.223\n",
    "    compactness (worst):                  0.027  1.058\n",
    "    concavity (worst):                    0.0    1.252\n",
    "    concave points (worst):               0.0    0.291\n",
    "    symmetry (worst):                     0.156  0.664\n",
    "    fractal dimension (worst):            0.055  0.208\n",
    "    ===================================== ====== ======\n",
    "\n",
    "    :Missing Attribute Values: None\n",
    "\n",
    "    :Class Distribution: 212 - Malignant, 357 - Benign\n",
    "\n",
    "    :Creator:  Dr. William H. Wolberg, W. Nick Street, Olvi L. Mangasarian\n",
    "\n",
    "    :Donor: Nick Street\n",
    "\n",
    "    :Date: November, 1995\n",
    "\n",
    "This is a copy of the UCI ML Breast Cancer Wisconsin (Diagnostic) dataset from https://goo.gl/U2Uwz2\n",
    "\n",
    "Features are computed from a digitized image of a fine needle\n",
    "aspirate (FNA) of a breast mass. They describe\n",
    "characteristics of the cell nuclei present in the image.\n",
    "\n",
    "Separating plane described above was obtained using\n",
    "Multisurface Method-Tree (MSM-T) [K. P. Bennett, \"Decision Tree\n",
    "Construction Via Linear Programming.\" Proceedings of the 4th\n",
    "Midwest Artificial Intelligence and Cognitive Science Society,\n",
    "pp. 97-101, 1992], a classification method which uses linear\n",
    "programming to construct a decision tree.  Relevant features\n",
    "were selected using an exhaustive search in the space of 1-4\n",
    "features and 1-3 separating planes.\n",
    "\n",
    "The actual linear program used to obtain the separating plane\n",
    "in the 3-dimensional space is that described in:\n",
    "[K. P. Bennett and O. L. Mangasarian: \"Robust Linear\n",
    "Programming Discrimination of Two Linearly Inseparable Sets\",\n",
    "Optimization Methods and Software 1, 1992, 23-34].\n",
    "\n",
    "This database is also available through the UW CS ftp server:\n",
    "\n",
    "```\n",
    "ftp ftp.cs.wisc.edu\n",
    "cd math-prog/cpo-dataset/machine-learn/WDBC/\n",
    "```\n",
    "\n",
    "### References\n",
    "   - W.N. Street, W.H. Wolberg and O.L. Mangasarian. Nuclear feature extraction \n",
    "     for breast tumor diagnosis. IS&T/SPIE 1993 International Symposium on \n",
    "     Electronic Imaging: Science and Technology, volume 1905, pages 861-870,\n",
    "     San Jose, CA, 1993.\n",
    "   - O.L. Mangasarian, W.N. Street and W.H. Wolberg. Breast cancer diagnosis and \n",
    "     prognosis via linear programming. Operations Research, 43(4), pages 570-577, \n",
    "     July-August 1995.\n",
    "   - W.H. Wolberg, W.N. Street, and O.L. Mangasarian. Machine learning techniques\n",
    "     to diagnose breast cancer from fine-needle aspirates. Cancer Letters 77 (1994) \n",
    "     163-171.\n"
   ]
  },
  {
   "cell_type": "markdown",
   "metadata": {
    "collapsed": true
   },
   "source": [
    "## Prepare/Split data\n",
    "We provide the data preparation part. The bellow code block splits the data and the targets into training and test sets; 60% for training, 40% for test. This repartition is of course arbitrary, different percentages could be chosen."
   ]
  },
  {
   "cell_type": "code",
   "execution_count": 8,
   "metadata": {},
   "outputs": [
    {
     "name": "stdout",
     "output_type": "stream",
     "text": [
      "30\n",
      "Training set size: 341\n",
      "Test set size: 228\n"
     ]
    }
   ],
   "source": [
    "split = int(x.shape[0] * 0.6)\n",
    "\n",
    "x_train = x[:split,:]\n",
    "y_train = y[:split]\n",
    "\n",
    "x_test = x[split:,:]\n",
    "y_test = y[split:]\n",
    "\n",
    "#print(y_train)\n",
    "print(x_train.shape[1])\n",
    "\n",
    "print('Training set size:', x_train.shape[0])\n",
    "print('Test set size:', x_test.shape[0])"
   ]
  },
  {
   "cell_type": "markdown",
   "metadata": {},
   "source": [
    "## Data visualisation\n",
    "\n",
    "Since our data has a feature dimensionality of 30, it is difficult for us to visualise it. We visualize data by using a dimensionality reduction technique called Principal Component Analysis (PCA). \n",
    "\n",
    "Given an array in `R^{nxd}` (a matrix of size `n X d` with real entries) with `n` and `d` being the number of data points and the feature dimensionality, respectively, PCA will output an array in `R^{nxm}`, with `m<d`. \n",
    "\n",
    "PCA will be covered in future lectures. But for now, you can consider it as a way to reduce the dimensionality of our feature space. \n",
    "\n",
    "In order to be able to visualise the data on a 2D plot, we choose `m=2` (`m=3` is also a possibility)."
   ]
  },
  {
   "cell_type": "markdown",
   "metadata": {},
   "source": [
    "### Question 1  (1 mark): \n",
    "\n",
    "Complete the code block below by writing the code that plots the reduced data obtained with PCA. Use different colours and markers to distinguish between positive and negative samples.\n",
    "\n",
    "It is interesting and informative to see how the result looks like if we remove the scaling part. \n",
    "\n",
    "The results should look like the plot below (please note that this is a plot of another dataset):\n",
    "\n",
    "<img src=\"image.png\">\n",
    "\n",
    "Hint: You will need to google the documentation for the `scatter()` and `legend()` methods of matplotlib.\n",
    "\n",
    "__(1 mark)__"
   ]
  },
  {
   "cell_type": "code",
   "execution_count": 9,
   "metadata": {},
   "outputs": [
    {
     "name": "stdout",
     "output_type": "stream",
     "text": [
      "2\n"
     ]
    },
    {
     "data": {
      "image/png": "[encoded data removed]",
      "text/plain": [
       "<matplotlib.figure.Figure at 0x228d8267898>"
      ]
     },
     "metadata": {},
     "output_type": "display_data"
    }
   ],
   "source": [
    "pca = PCA(n_components=2)\n",
    "x_scaled = preprocessing.scale(x[:,:-1]) # We remove the indexing and make sure all the features are in N(0,1)\n",
    "x_reduced = pca.fit_transform(x_scaled)\n",
    "#x_reduced = pca.fit_transform(x[:,0:-1]) # Uncomment this to see the result without scaling\n",
    "\n",
    "plt.scatter(x_reduced[y==0,0],x_reduced[y==0,1], c='r',marker = '*', label = 'Negative')\n",
    "plt.scatter(x_reduced[y==1,0],x_reduced[y==1,1], c='g',marker = '+', label = 'Positive')\n",
    "plt.legend(bbox_to_anchor=(1,1), loc=1)\n",
    "\n",
    "print(x_reduced.shape[1])\n",
    "# **************************************************************** 1 mark"
   ]
  },
  {
   "cell_type": "markdown",
   "metadata": {},
   "source": [
    "### Question 2  (4 marks): \n",
    "Complete the function `calculate_entropy(y)` in the code block bellow. The input is a column vector of target class values, and the output is its entropy.\n",
    "\n",
    "`y` is an `n X 1` sized matrix where `n` is the number of data points (targets).\n",
    "The return is a scalar.\n",
    "\n",
    "Hints:\n",
    " * You may want to google the documentation for `numpy.unique()`,  paying particular attention to the `return_counts` keyword.\n",
    " * Be careful about type - you may need to use `.astype(float)` to avoid integer division.\n",
    "\n",
    "__(4 marks)__"
   ]
  },
  {
   "cell_type": "code",
   "execution_count": 6,
   "metadata": {},
   "outputs": [
    {
     "data": {
      "text/plain": [
       "0.95263512240185988"
      ]
     },
     "execution_count": 6,
     "metadata": {},
     "output_type": "execute_result"
    }
   ],
   "source": [
    "def calculate_entropy(y):\n",
    "    # **************************************************************** 4 marks\n",
    "    [el, counts] = np.unique(y, return_counts= True)\n",
    "    entropy = 0\n",
    "    #print(el.shape[0])\n",
    "    for i in range(el.shape[0]):\n",
    "        prob = counts[i].astype(float)/y.shape[0]\n",
    "        entropy += -prob*np.log2(prob)\n",
    "    #print(entropy)\n",
    "    return entropy\n",
    "\n",
    "calculate_entropy(y)"
   ]
  },
  {
   "cell_type": "markdown",
   "metadata": {},
   "source": [
    "### Question 3  (5 marks): \n",
    "Use the function `calculate_entropy()` to complete the function `find_split(x, y)`.\n",
    "\n",
    "`find_split(x, y)` takes as input:\n",
    " * The data matrix of features, `x` in `R^{nXd}`. `n` is the number of data points and `d` is the feature dimensionality. \n",
    " * `y`, a column vector of size `n` containing the target value for each data point in `x`.\n",
    "\n",
    "`find_split(x, y)` outputs 'best_split' which is a dictionary (see the last part of the below code) with the following keys and their corresponding values:\n",
    "\n",
    " * `'feature'`: An integer indexing the attribute/feature chosen to split upon.\n",
    " * `'split'`: The value/threshold of this feature to split at.\n",
    " * `'infogain'`: A scalar representing the amount of information gained by splitting this way.\n",
    " * `'left_indices'`: Indices of the exemplars that satisfy `x[feature_index]<=split`.\n",
    " * `'right_indices'`: Opposite set of indices to `left_indices`."
   ]
  },
  {
   "cell_type": "code",
   "execution_count": 7,
   "metadata": {},
   "outputs": [
    {
     "data": {
      "text/plain": [
       "{'feature': 27,\n",
       " 'infogain': 0.60003592359004132,\n",
       " 'left_indices': array([  0,   1,   3,   4,   5,   6,   7,   8,   9,  13,  14,  15,  16,\n",
       "         17,  18,  19,  20,  21,  22,  23,  26,  30,  33,  34,  35,  36,\n",
       "         37,  39,  40,  41,  42,  43,  44,  45,  46,  47,  49,  50,  53,\n",
       "         54,  55,  56,  57,  58,  60,  61,  62,  63,  64,  65,  66,  68,\n",
       "         69,  70,  71,  72,  73,  74,  75,  77,  78,  79,  80,  81,  82,\n",
       "         83,  84,  85,  86,  87,  88,  90,  93,  95,  96,  97,  98, 101,\n",
       "        102, 104, 106, 107, 109, 111, 112, 113, 114, 115, 116, 117, 118,\n",
       "        121, 122, 123, 124, 125, 126, 128, 129, 130, 131, 132, 133, 134,\n",
       "        135, 136, 137, 139, 140, 141, 142, 143, 144, 145, 147, 148, 149,\n",
       "        150, 152, 153, 154, 155, 156, 159, 161, 163, 164, 165, 166, 167,\n",
       "        169, 170, 172, 173, 174, 177, 178, 179, 181, 182, 183, 184, 185,\n",
       "        186, 187, 188, 189, 190, 191, 193, 195, 196, 197, 198, 199, 200,\n",
       "        201, 202, 203, 204, 205, 206, 207, 208, 209, 210, 211, 212, 213,\n",
       "        214, 215, 216, 217, 218, 219, 220, 225, 227], dtype=int64),\n",
       " 'right_indices': array([  2,  10,  11,  12,  24,  25,  27,  28,  29,  31,  32,  38,  48,\n",
       "         51,  52,  59,  67,  76,  89,  91,  92,  94,  99, 100, 103, 105,\n",
       "        108, 110, 119, 120, 127, 138, 146, 151, 157, 158, 160, 162, 168,\n",
       "        171, 175, 176, 180, 192, 194, 221, 222, 223, 224, 226], dtype=int64),\n",
       " 'split': 0.14649999999999999}"
      ]
     },
     "execution_count": 7,
     "metadata": {},
     "output_type": "execute_result"
    }
   ],
   "source": [
    "def find_split(x, y):\n",
    "    \"\"\"Given a dataset and its target values, this finds the optimal combination\n",
    "    of feature and split point that gives the maximum information gain.\"\"\"\n",
    "    \n",
    "    # Need the starting entropy so we can measure improvement...\n",
    "    start_entropy = calculate_entropy(y)\n",
    "    \n",
    "    # Best thus far, initialised to a dud that will be replaced immediately...\n",
    "    best = {'infogain' : -np.inf}\n",
    "    #print(best)\n",
    "    # Loop every possible split of every dimension...\n",
    "    for i in range(x.shape[1]):\n",
    "        for split in np.unique(x[:,i]):\n",
    "            \n",
    "            # 1. split to two arrays (right, left) based on the feature to split on\n",
    "            # 2. calculate entropy on each array\n",
    "            # 3. compute final entropy\n",
    "            # 4. compute infogain\n",
    "            \n",
    "            left_indices = np.nonzero(x[:,i] <= split) [0]\n",
    "            l_entropy = calculate_entropy(y[left_indices])\n",
    "            l_prob = left_indices.shape[0] / y.shape[0]\n",
    "            \n",
    "            right_indices = np.nonzero(x[:,i] > split) [0]\n",
    "            r_entropy = calculate_entropy(y[right_indices])\n",
    "            r_prob = right_indices.shape[0] / y.shape[0]\n",
    "            \n",
    "            final_entropy = l_prob * l_entropy + r_prob * r_entropy\n",
    "            infogain = start_entropy - final_entropy\n",
    "            \n",
    "            # **************************************************************** 5 marks\n",
    "            #calculate_entropy(y)\n",
    "            \n",
    "            if infogain > best['infogain']:\n",
    "                best = {'feature' : i,\n",
    "                        'split' : split,\n",
    "                        'infogain' : infogain, \n",
    "                        'left_indices' : left_indices,\n",
    "                        'right_indices' : right_indices}\n",
    "    #print(best)\n",
    "    return best\n",
    "\n",
    "find_split(x_test,y_test)"
   ]
  },
  {
   "cell_type": "markdown",
   "metadata": {
    "collapsed": true
   },
   "source": [
    "The function `find_split()` allows us to find the optimal feature and the best value to split the data into two chunks. Applying this to the original data set splits it into two new data sets. We can then repeat this on both of the new data sets to get four data sets, and so on. This recursion builds a decision tree. It needs a stopping condition, to prevent it dividing the data forever, here we will use two:\n",
    " * Maximum depth: The tree is limited to be no deeper than a provided limit.\n",
    " * Perfection: If a node contains only one class then there is little point in splitting it further.\n",
    "\n",
    "We provide the function `build_tree(x, y, max_depth)` below to construct a tree. The inputs are: \n",
    "\n",
    " * The data matrix of features, `x` in `R^{nXd}`. `n` is the number of data points and `d` is the feature dimensionality. \n",
    " * `y`, a column vector of size `n` containing the target value for each data point in `x`.\n",
    " * The maximum depth of the tree, `max_depth`.\n",
    "\n",
    "The output of this function is a dictionary. If it has generated a leaf node then the keys are:\n",
    " * `'leaf' : True`\n",
    " * `'class'` : The index of the class to assign to exemplars that land here.\n",
    "\n",
    "If it has generated a split node then the keys are:\n",
    " * `'leaf' : False`\n",
    " * `'feature'`: The feature to apply the `split` to.\n",
    " * `'split'`: The split to test the exemplars `feature` with.\n",
    " * `'infogain'`: The information gain of this split.\n",
    " * `'left'` : The left subtree, for exemplars where `x[feature_index]<=split`\n",
    " * `'right'` : The right subtree, for exemplars where `x[feature_index]>split`\n"
   ]
  },
  {
   "cell_type": "code",
   "execution_count": 7,
   "metadata": {
    "collapsed": true
   },
   "outputs": [],
   "source": [
    "def build_tree(x, y, max_depth = np.inf):\n",
    "    # Check if either of the stopping conditions have been reached. If so generate a leaf node...\n",
    "    if max_depth==1 or (y==y[0]).all():\n",
    "        # Generate a leaf node...\n",
    "        classes, counts = np.unique(y, return_counts=True)\n",
    "        return {'leaf' : True, 'class' : classes[np.argmax(counts)]}\n",
    "    \n",
    "    else:\n",
    "        move = find_split(x, y)\n",
    "        \n",
    "        left = build_tree(x[move['left_indices'],:], y[move['left_indices']], max_depth - 1)\n",
    "        right = build_tree(x[move['right_indices'],:], y[move['right_indices']], max_depth - 1)\n",
    "        \n",
    "        return {'leaf' : False,\n",
    "                'feature' : move['feature'],\n",
    "                'split' : move['split'],\n",
    "                'infogain' : move['infogain'],\n",
    "                'left' : left,\n",
    "                'right' : right}\n"
   ]
  },
  {
   "cell_type": "markdown",
   "metadata": {
    "collapsed": true
   },
   "source": [
    "After building the tree we should be able to predict the class of a sample. We do that by propagating the sample through the tree, i.e. we check all the splitting conditions until the sample falls in a leaf node, in which case the class of the leaf node is attributed to the sample.\n",
    "\n",
    "We provide the recursive function `predict_one(tree, sample)` that takes as input the constructed tree, a sample in `R^d` and recursively propagates it through the branches of our tree. The output of this function is the class predicted for the sample."
   ]
  },
  {
   "cell_type": "code",
   "execution_count": 8,
   "metadata": {
    "collapsed": true
   },
   "outputs": [],
   "source": [
    "def predict_one(tree, sample):\n",
    "    \"\"\"Does the prediction for a single data point\"\"\"\n",
    "    if tree['leaf']:\n",
    "        return tree['class']\n",
    "    \n",
    "    else:\n",
    "        if sample[tree['feature']] <= tree['split']:\n",
    "            return predict_one(tree['left'], sample)\n",
    "        else:\n",
    "            return predict_one(tree['right'], sample)\n"
   ]
  },
  {
   "cell_type": "markdown",
   "metadata": {},
   "source": [
    "We further generalize the prediction function above to the case where we have a data matrix `R^{nXd}` representing many data points. the function `predict(tree, samples)` bellow takes as input the constructed tree and a data array then returns an array containing the predictions for all the samples in our input data array."
   ]
  },
  {
   "cell_type": "code",
   "execution_count": 9,
   "metadata": {
    "collapsed": true
   },
   "outputs": [],
   "source": [
    "def predict(tree, samples):\n",
    "    \"\"\"Predicts class for every entry of a data matrix.\"\"\"\n",
    "    ret = np.empty(samples.shape[0], dtype=int)\n",
    "    ret.fill(-1)\n",
    "    indices = np.arange(samples.shape[0])\n",
    "    \n",
    "    def tranverse(node, indices):\n",
    "        nonlocal samples\n",
    "        nonlocal ret\n",
    "        \n",
    "        if node['leaf']:\n",
    "            ret[indices] = node['class']\n",
    "        \n",
    "        else:\n",
    "            going_left = samples[indices, node['feature']] <= node['split']\n",
    "            left_indices = indices[going_left]\n",
    "            right_indices = indices[np.logical_not(going_left)]\n",
    "            \n",
    "            if left_indices.shape[0] > 0:\n",
    "                tranverse(node['left'], left_indices)\n",
    "                \n",
    "            if right_indices.shape[0] > 0:\n",
    "                tranverse(node['right'], right_indices)\n",
    "    \n",
    "    tranverse(tree, indices)\n",
    "    return ret"
   ]
  },
  {
   "cell_type": "markdown",
   "metadata": {},
   "source": [
    "### Question 4  (2 marks):\n",
    "Using the functions defined above build a tree and report the training and test accuracy.\n",
    "\n",
    "__(2 marks)__"
   ]
  },
  {
   "cell_type": "code",
   "execution_count": 10,
   "metadata": {},
   "outputs": [
    {
     "name": "stdout",
     "output_type": "stream",
     "text": [
      "Accuracy for train data: 1.000\n",
      "Accuracy for test data: 0.899 \n",
      "\n"
     ]
    },
    {
     "data": {
      "text/plain": [
       "(1.0,\n",
       " 0.89912280701754388,\n",
       " {'feature': 22,\n",
       "  'infogain': 0.61803724965087148,\n",
       "  'leaf': False,\n",
       "  'left': {'feature': 24,\n",
       "   'infogain': 0.14260717506536755,\n",
       "   'leaf': False,\n",
       "   'left': {'feature': 21,\n",
       "    'infogain': 0.046686955553979476,\n",
       "    'leaf': False,\n",
       "    'left': {'class': 1, 'leaf': True},\n",
       "    'right': {'feature': 27,\n",
       "     'infogain': 0.1084651853828234,\n",
       "     'leaf': False,\n",
       "     'left': {'feature': 15,\n",
       "      'infogain': 0.10581875923418943,\n",
       "      'leaf': False,\n",
       "      'left': {'feature': 7,\n",
       "       'infogain': 0.43714361201868296,\n",
       "       'leaf': False,\n",
       "       'left': {'feature': 11,\n",
       "        'infogain': 0.30954342915032518,\n",
       "        'leaf': False,\n",
       "        'left': {'class': 0, 'leaf': True},\n",
       "        'right': {'class': 1, 'leaf': True},\n",
       "        'split': 0.82650000000000001},\n",
       "       'right': {'class': 0, 'leaf': True},\n",
       "       'split': 0.026450000000000001},\n",
       "      'right': {'class': 1, 'leaf': True},\n",
       "      'split': 0.012019999999999999},\n",
       "     'right': {'class': 0, 'leaf': True},\n",
       "     'split': 0.12820000000000001},\n",
       "    'split': 23.309999999999999},\n",
       "   'right': {'class': 0, 'leaf': True},\n",
       "   'split': 0.17330000000000001},\n",
       "  'right': {'feature': 22,\n",
       "   'infogain': 0.15946418150236125,\n",
       "   'leaf': False,\n",
       "   'left': {'feature': 1,\n",
       "    'infogain': 0.61751117056092997,\n",
       "    'leaf': False,\n",
       "    'left': {'feature': 0,\n",
       "     'infogain': 0.72192809488736231,\n",
       "     'leaf': False,\n",
       "     'left': {'class': 0, 'leaf': True},\n",
       "     'right': {'class': 1, 'leaf': True},\n",
       "     'split': 13.960000000000001},\n",
       "    'right': {'class': 0, 'leaf': True},\n",
       "    'split': 19.649999999999999},\n",
       "   'right': {'feature': 7,\n",
       "    'infogain': 0.067221544758306856,\n",
       "    'leaf': False,\n",
       "    'left': {'class': 1, 'leaf': True},\n",
       "    'right': {'class': 0, 'leaf': True},\n",
       "    'split': 0.027709999999999999},\n",
       "   'split': 114.3},\n",
       "  'split': 105.0})"
      ]
     },
     "execution_count": 10,
     "metadata": {},
     "output_type": "execute_result"
    }
   ],
   "source": [
    "# **************************************************************** 2 marks\n",
    "# takes 3 parameters: x, y_train, y_test\n",
    "def find_accuracy(max_depth):\n",
    "\n",
    "    dec_tree = build_tree(x_train,y_train, max_depth)\n",
    "    trn_prediction = predict(dec_tree, x_train)\n",
    "    trn_correct = sum(trn_prediction == y_train) # sum the matching elements for comparison\n",
    "    trn_accuracy = trn_correct / y_train.shape[0]\n",
    "    \n",
    "    tst_prediction = predict(dec_tree, x_test)\n",
    "    tst_correct = sum(tst_prediction == y_test) # sum the matching elements for comparison\n",
    "    tst_accuracy = tst_correct / y_test.shape[0]\n",
    "    \n",
    "    print('Accuracy for train data: %.3f' % trn_accuracy)\n",
    "    print('Accuracy for test data: %.3f' % tst_accuracy,'\\n')\n",
    "        \n",
    "    return trn_accuracy, tst_accuracy, dec_tree\n",
    "\n",
    "find_accuracy(0)"
   ]
  },
  {
   "cell_type": "markdown",
   "metadata": {},
   "source": [
    "### Question 5 (2 marks):\n",
    "\n",
    "Find the best `max_depth` parameter plus its corresponding training and test accuracies. A good range to test is `range(2,6)`.\n",
    "\n",
    "__(2 marks)__"
   ]
  },
  {
   "cell_type": "code",
   "execution_count": 11,
   "metadata": {
    "scrolled": true
   },
   "outputs": [
    {
     "name": "stdout",
     "output_type": "stream",
     "text": [
      "Restricting to max depth:  2\n",
      "Accuracy for train data: 0.927\n",
      "Accuracy for test data: 0.899 \n",
      "\n",
      "Restricting to max depth:  3\n",
      "Accuracy for train data: 0.944\n",
      "Accuracy for test data: 0.882 \n",
      "\n",
      "Restricting to max depth:  4\n",
      "Accuracy for train data: 0.974\n",
      "Accuracy for test data: 0.917 \n",
      "\n",
      "Restricting to max depth:  5\n",
      "Accuracy for train data: 0.988\n",
      "Accuracy for test data: 0.904 \n",
      "\n",
      "Best max depth is  4  with train acc =  0.973607038123  and test acc =  0.916666666667\n",
      "{'leaf': False, 'feature': 22, 'split': 105.0, 'infogain': 0.61803724965087148, 'left': {'leaf': False, 'feature': 24, 'split': 0.17330000000000001, 'infogain': 0.14260717506536755, 'left': {'leaf': False, 'feature': 21, 'split': 23.309999999999999, 'infogain': 0.046686955553979476, 'left': {'leaf': True, 'class': 1}, 'right': {'leaf': True, 'class': 1}}, 'right': {'leaf': True, 'class': 0}}, 'right': {'leaf': False, 'feature': 22, 'split': 114.3, 'infogain': 0.15946418150236125, 'left': {'leaf': False, 'feature': 1, 'split': 19.649999999999999, 'infogain': 0.61751117056092997, 'left': {'leaf': True, 'class': 1}, 'right': {'leaf': True, 'class': 0}}, 'right': {'leaf': False, 'feature': 7, 'split': 0.027709999999999999, 'infogain': 0.067221544758306856, 'left': {'leaf': True, 'class': 1}, 'right': {'leaf': True, 'class': 0}}}}\n"
     ]
    }
   ],
   "source": [
    "# **************************************************************** 2 marks\n",
    "\n",
    "best_max_depth = None\n",
    "best_trn_acc = -1.0\n",
    "best_tst_acc = -1.0\n",
    "# for the next part:\n",
    "best_dec_tree = None\n",
    "\n",
    "for max_depth in range(2,6):\n",
    "    print('Restricting to max depth: ',max_depth)\n",
    "    trn_acc, tst_acc, curr_tree = find_accuracy(max_depth)\n",
    "    \n",
    "    if best_tst_acc < tst_acc:\n",
    "        best_max_depth = max_depth\n",
    "        best_trn_acc = trn_acc\n",
    "        best_tst_acc = tst_acc\n",
    "        best_dec_tree = curr_tree\n",
    "        \n",
    "print('Best max depth is ', best_max_depth,' with train acc = ', best_trn_acc,' and test acc = ', best_tst_acc)\n",
    "    \n",
    "print(best_dec_tree)\n"
   ]
  },
  {
   "cell_type": "markdown",
   "metadata": {},
   "source": [
    "### Question 6 (1 mark):\n",
    "Write a recursive function that prints out a tree, and use it to print the best tree learned.\n",
    "\n",
    "Example:\n",
    "\n",
    "```\n",
    "    [x22 <=0.296]\n",
    "\n",
    "        [x27 <=-0.058]\n",
    "\n",
    "          [x13 <=0.187]\n",
    "\n",
    "           [x21 <=1.246]\n",
    "                predict 1\n",
    "                \n",
    "           [x21 >1.246]\n",
    "                predict 0\n",
    "                \n",
    "          [x13 >0.187]\n",
    "\n",
    "           [x0 <=0.160]\n",
    "                predict 1\n",
    "                \n",
    "           [x0 >0.160]\n",
    "                predict 0\n",
    "                \n",
    "        [x27 >-0.058]\n",
    "\n",
    "          [x27 <=0.690]\n",
    "\n",
    "           [x21 <=0.263]\n",
    "            predict 1\n",
    "            \n",
    "           [x21 >0.263]\n",
    "            predict 0\n",
    "            \n",
    "          [x27 >0.690]\n",
    "            predict 0\n",
    "            \n",
    "    [x22 >0.296]\n",
    "\n",
    "    predict 0\n",
    "```\n",
    "\n",
    "The conditions with the same tree depth must be indented the same amount. This function should have as input the tree learned, and a scalar `indent` that is used to measure how for to indent at the current recursion level.\n",
    "\n",
    "__(1 mark)__"
   ]
  },
  {
   "cell_type": "code",
   "execution_count": null,
   "metadata": {},
   "outputs": [],
   "source": [
    "def print_tree(tree, indent = 0):\n",
    "    # **************************************************************** 1 mark\n",
    "    \n",
    "    if tree['leaf'] != True: # if reached a leaf of the decision tree, print nodes an recursively move further down the left and right subtrees\n",
    "        print('\\t'*indent,'[ x',tree['feature'],' <= %.3f'% tree['split'],']\\n')\n",
    "        print_tree(tree['left'], indent+1)\n",
    "        \n",
    "        print('\\t'*indent,'[ x',tree['feature'],' > %.3f'% tree['split'],']\\n')\n",
    "        print_tree(tree['right'], indent+1)\n",
    "    else: # if it reached a leaf (tree stopped growing) then print just the predicted class\n",
    "        print('\\t'*indent, 'predict ', tree['class'],'\\n')\n",
    "    pass\n",
    "\n",
    "print_tree(best_dec_tree)"
   ]
  },
  {
   "cell_type": "code",
   "execution_count": null,
   "metadata": {
    "collapsed": true
   },
   "outputs": [],
   "source": []
  }
 ],
 "metadata": {
  "kernelspec": {
   "display_name": "Python 3",
   "language": "python",
   "name": "python3"
  },
  "language_info": {
   "codemirror_mode": {
    "name": "ipython",
    "version": 3
   },
   "file_extension": ".py",
   "mimetype": "text/x-python",
   "name": "python",
   "nbconvert_exporter": "python",
   "pygments_lexer": "ipython3",
   "version": "3.6.2"
  }
 },
 "nbformat": 4,
 "nbformat_minor": 2
}
